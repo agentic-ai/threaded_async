{
 "cells": [
  {
   "cell_type": "markdown",
   "metadata": {},
   "source": [
    "# Cookbook `threaded_async`"
   ]
  },
  {
   "cell_type": "markdown",
   "metadata": {},
   "source": [
    "###  Deploying async code in the background.\n",
    "\n",
    "Entering the context of an AsyncRunner creates a new background thread with its\n",
    "own event loop. Threaded code can create asynchronous tasks on this event loop\n",
    "and use a blocking thread interface to access their results."
   ]
  },
  {
   "cell_type": "code",
   "execution_count": 1,
   "metadata": {},
   "outputs": [
    {
     "name": "stdout",
     "output_type": "stream",
     "text": [
      "10\n"
     ]
    }
   ],
   "source": [
    "import asyncio\n",
    "\n",
    "import threaded_async\n",
    "\n",
    "async def foo() -> int:\n",
    "  await asyncio.sleep(0.1)\n",
    "  return 10\n",
    "\n",
    "with threaded_async.AsyncRunner() as runner:\n",
    "  # Deploy the coroutine as a task on the loop\n",
    "  background_task = runner.create_task(foo())\n",
    "  # Block the current thread waiting for the task to complete.\n",
    "  print(background_task.wait())"
   ]
  },
  {
   "cell_type": "markdown",
   "metadata": {},
   "source": [
    "### Using events.\n",
    "\n",
    "Events can be used for bidirectional communication between threaded code\n",
    "and async coroutines. The following shows an async function that uses an event\n",
    "to wait for the main thread to perform initialization of a global variable."
   ]
  },
  {
   "cell_type": "code",
   "execution_count": 2,
   "metadata": {},
   "outputs": [
    {
     "name": "stdout",
     "output_type": "stream",
     "text": [
      "11\n"
     ]
    }
   ],
   "source": [
    "from typing import Optional\n",
    "import threaded_async\n",
    "\n",
    "global_var: Optional[int] = None\n",
    "\n",
    "async def increment_global(global_initialized: threaded_async.Event) -> int:\n",
    "  await global_initialized.as_async_event().wait()\n",
    "  assert global_var is not None\n",
    "  return global_var + 1\n",
    "\n",
    "with threaded_async.AsyncRunner() as runner:\n",
    "  global_initialized = threaded_async.Event(runner)\n",
    "  background_task = runner.create_task(increment_global(global_initialized))\n",
    "  global_var = 10\n",
    "  global_initialized.set()\n",
    "  print(background_task.wait())"
   ]
  },
  {
   "cell_type": "markdown",
   "metadata": {},
   "source": [
    "### Using queues"
   ]
  },
  {
   "cell_type": "markdown",
   "metadata": {},
   "source": [
    "The `threaded_async.Queue` class provides both threaded and async interfaces\n",
    "for adding or removing items from the queue. The code below shows an async\n",
    "worker that receives tasks and reports results to the main thread."
   ]
  },
  {
   "cell_type": "code",
   "execution_count": 3,
   "metadata": {},
   "outputs": [
    {
     "name": "stdout",
     "output_type": "stream",
     "text": [
      "1\n",
      "2\n",
      "3\n",
      "4\n",
      "5\n",
      "6\n",
      "7\n",
      "8\n",
      "9\n",
      "10\n"
     ]
    }
   ],
   "source": [
    "import threaded_async\n",
    "\n",
    "async def increment_worker(\n",
    "    in_queue: threaded_async.Queue[int],\n",
    "    out_queue: threaded_async.Queue[int]):\n",
    "  \"\"\"Increment integers from in_queue and put them in output_queue.\"\"\"\n",
    "  while True:\n",
    "    number = await in_queue.get()\n",
    "    await out_queue.put(number + 1)\n",
    "\n",
    "with threaded_async.AsyncRunner() as runner:\n",
    "  in_queue = threaded_async.Queue[int](runner)\n",
    "  out_queue = threaded_async.Queue[int](runner)\n",
    "  background_task = runner.create_task(increment_worker(in_queue, out_queue))\n",
    "  for i in range(10):\n",
    "    in_queue.put_wait(i)\n",
    "    print(out_queue.get_wait())\n",
    "  background_task.cancel()  # Tasks are also auto-canceled when leaving context."
   ]
  },
  {
   "cell_type": "markdown",
   "metadata": {},
   "source": [
    "### Control inversion\n",
    "\n",
    "In some circumstances it can be useful to treat async code as a client\n",
    "making requests against the main thread as if it was a server. We use the term\n",
    "_control\\_inversion_ to refer to this pattern, since from the perspective of\n",
    "the asynchronous client code it appears that the client making requests against\n",
    "the server, but in practice, the client code will sleep until the server\n",
    "decides to handle the request. "
   ]
  },
  {
   "cell_type": "code",
   "execution_count": 37,
   "metadata": {},
   "outputs": [
    {
     "name": "stdout",
     "output_type": "stream",
     "text": [
      "Processing new client requests\n",
      "Client got: 1\n",
      "Processing new client requests\n",
      "Client got: 2\n",
      "Processing new client requests\n",
      "Client got: 3\n"
     ]
    }
   ],
   "source": [
    "from threaded_async.control_inversion import ExecutionRequest\n",
    "from threaded_async.threaded_async import Future\n",
    "\n",
    "\n",
    "class Stub(threaded_async.Client):\n",
    "  \"\"\"The interface between async coroutine and main thread.\"\"\"\n",
    "  async def increment(self, number: int) -> int:\n",
    "    return await self.execute(Stub.increment, number)\n",
    "\n",
    "\n",
    "class MyServer(threaded_async.Server):\n",
    "  \"\"\"A server that processes increment requests.\"\"\"\n",
    "\n",
    "  def _handle_request(\n",
    "      self, request: ExecutionRequest[int], future: Future[int]):\n",
    "    if request.fun == Stub.increment:\n",
    "      # Handle increment request.\n",
    "      (number,) = request.args\n",
    "      future.set_result(number + 1)\n",
    "    else:\n",
    "      assert False, f\"Unknown function {request.fun}\"\n",
    "\n",
    "\n",
    "async def client_code(client: Stub):\n",
    "  for i in range(10):\n",
    "    print(f'Client got: {await client.increment(i)}')\n",
    "\n",
    "\n",
    "server = MyServer()\n",
    "with server:\n",
    "  client = Stub(server)\n",
    "  server.create_background_task(client_code(client))\n",
    "  for i in range(3):\n",
    "    print('Processing new client requests')\n",
    "    server.process()\n"
   ]
  },
  {
   "cell_type": "markdown",
   "metadata": {},
   "source": [
    "### Error handling\n",
    "\n",
    "Background tasks will reraise exceptions in the main thread when `wait()` is\n",
    "called on them. If at the time the `AsyncRunner` context is exited, there are\n",
    "outstanding exceptions that have not been retrieved yet, these will be raised\n",
    "as an `ExceptionGroup`."
   ]
  },
  {
   "cell_type": "code",
   "execution_count": 40,
   "metadata": {},
   "outputs": [
    {
     "name": "stdout",
     "output_type": "stream",
     "text": [
      "Got the following exceptions: (ValueError('This is an error'), ValueError('This is an error'), ValueError('This is an error'))\n"
     ]
    }
   ],
   "source": [
    "async def raises_error():\n",
    "  raise ValueError('This is an error')\n",
    "\n",
    "try:\n",
    "  with threaded_async.AsyncRunner() as runner:\n",
    "    for _ in range(3):\n",
    "      runner.create_task(raises_error())\n",
    "except threaded_async.ExceptionGroup as e:\n",
    "  print(f'Got the following exceptions: {e.exceptions}')"
   ]
  },
  {
   "cell_type": "markdown",
   "metadata": {},
   "source": [
    "### Stuck event loops\n",
    "\n",
    "Asyncio event loops can get stuck when a coroutine doesn't yield control by \n",
    "using the await keyword. This will manifest in an EventLoopTimeoutError and \n",
    "will prevent a clean shutdown of the loop.\n",
    "\n",
    "If `AsyncRunner` detects that the loop is stuck on exit, it will try and bring\n",
    "down the thread forcefully, by calling directly into the python C API. Note\n",
    "that this may leave the python runtime in an inconsistent state."
   ]
  },
  {
   "cell_type": "code",
   "execution_count": 45,
   "metadata": {},
   "outputs": [
    {
     "name": "stderr",
     "output_type": "stream",
     "text": [
      "Exception in thread Thread-385:\n",
      "Traceback (most recent call last):\n",
      "  File \"/usr/lib/python3.8/threading.py\", line 932, in _bootstrap_inner\n",
      "    self.run()\n",
      "  File \"/home/leo/dev/threaded_async/.venv/lib/python3.8/site-packages/ipykernel/ipkernel.py\", line 766, in run_closure\n",
      "    _threading_Thread_run(self)\n",
      "  File \"/usr/lib/python3.8/threading.py\", line 870, in run\n",
      "    self._target(*self._args, **self._kwargs)\n",
      "  File \"/home/leo/dev/threaded_async/src/threaded_async/threaded_async.py\", line 245, in _run_event_loop\n",
      "    self._event_loop.run_forever()\n",
      "  File \"/usr/lib/python3.8/asyncio/base_events.py\", line 570, in run_forever\n",
      "    self._run_once()\n",
      "  File \"/usr/lib/python3.8/asyncio/base_events.py\", line 1859, in _run_once\n",
      "    handle._run()\n",
      "  File \"/usr/lib/python3.8/asyncio/events.py\", line 81, in _run\n",
      "    self._context.run(self._callback, *self._args)\n",
      "  File \"/home/leo/dev/threaded_async/src/threaded_async/threaded_async.py\", line 751, in _run\n",
      "    self._exec_tracker.set_result(await self._awaitable)\n",
      "  File \"/tmp/ipykernel_3933203/501123862.py\", line 5, in hang_forever\n",
      "threaded_async.threaded_async.ForcedThreadShutdown\n"
     ]
    },
    {
     "name": "stdout",
     "output_type": "stream",
     "text": [
      "Event loop was stuck.\n",
      "Runner shutdown type: FORCE_STOPPED\n"
     ]
    }
   ],
   "source": [
    "async def hang_forever():\n",
    "  \"\"\"A function that does not await anything and blocks the event loop.\"\"\"\n",
    "  await asyncio.sleep(0.1)\n",
    "  while True:\n",
    "    pass\n",
    "\n",
    "try:\n",
    "  with threaded_async.AsyncRunner() as runner:\n",
    "    runner.create_task(hang_forever()).wait(1.0)\n",
    "except threaded_async.EventLoopTimeoutError:\n",
    "  print('Event loop was stuck.')\n",
    "\n",
    "print(f'Runner shutdown type: {runner.shutdown_type.name}')"
   ]
  }
 ],
 "metadata": {
  "kernelspec": {
   "display_name": ".venv",
   "language": "python",
   "name": "python3"
  },
  "language_info": {
   "codemirror_mode": {
    "name": "ipython",
    "version": 3
   },
   "file_extension": ".py",
   "mimetype": "text/x-python",
   "name": "python",
   "nbconvert_exporter": "python",
   "pygments_lexer": "ipython3",
   "version": "3.8.10"
  }
 },
 "nbformat": 4,
 "nbformat_minor": 2
}
