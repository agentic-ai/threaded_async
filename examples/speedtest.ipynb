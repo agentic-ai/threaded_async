{
 "cells": [
  {
   "cell_type": "code",
   "execution_count": 1,
   "metadata": {},
   "outputs": [],
   "source": [
    "import queue\n",
    "import time\n",
    "import threading\n",
    "import threaded_async"
   ]
  },
  {
   "cell_type": "code",
   "execution_count": 2,
   "metadata": {},
   "outputs": [
    {
     "name": "stdout",
     "output_type": "stream",
     "text": [
      "Average: 4.2430400848388674e-05\n"
     ]
    }
   ],
   "source": [
    "# Baseline (threads only)\n",
    "N = 1000\n",
    "\n",
    "def worker(in_queue, out_queue):\n",
    "  for _ in range(N):\n",
    "    x = in_queue.get()\n",
    "    y = x + 1\n",
    "    out_queue.put(y)\n",
    "\n",
    "def main():\n",
    "  in_queue = queue.Queue()\n",
    "  out_queue = queue.Queue()\n",
    "\n",
    "  workert = threading.Thread(target=worker, args=(in_queue, out_queue))\n",
    "  workert.start()\n",
    "  time.sleep(0.1)\n",
    "\n",
    "  before = time.time()\n",
    "  for i in range(N):\n",
    "    in_queue.put(i)\n",
    "    out_queue.get()\n",
    "  after = time.time()\n",
    "\n",
    "  print(f'Average: {(after - before) / N}')\n",
    "\n",
    "main()"
   ]
  },
  {
   "cell_type": "code",
   "execution_count": 3,
   "metadata": {},
   "outputs": [
    {
     "name": "stdout",
     "output_type": "stream",
     "text": [
      "Average: 0.00028458237648010254\n"
     ]
    }
   ],
   "source": [
    "async def worker_async(in_queue, out_queue):\n",
    "  for _ in range(N):\n",
    "    x = await in_queue.get()\n",
    "    y = x + 1\n",
    "    await out_queue.put(y)\n",
    "\n",
    "def main_async():\n",
    "  with threaded_async.AsyncRunner() as runner:\n",
    "    in_queue = threaded_async.Queue(runner)\n",
    "    out_queue = threaded_async.Queue(runner)\n",
    "    task = runner.create_task(worker_async(in_queue, out_queue))\n",
    "    time.sleep(0.1)\n",
    "    before = time.time()\n",
    "    for i in range(N):\n",
    "      in_queue.put_wait(i)\n",
    "      out_queue.get_wait()\n",
    "    after = time.time()\n",
    "    task.cancel()\n",
    "  print(f'Average: {(after - before) / N}')\n",
    "\n",
    "main_async()"
   ]
  }
 ],
 "metadata": {
  "kernelspec": {
   "display_name": "threaded_async-qegvMn2C",
   "language": "python",
   "name": "python3"
  },
  "language_info": {
   "codemirror_mode": {
    "name": "ipython",
    "version": 3
   },
   "file_extension": ".py",
   "mimetype": "text/x-python",
   "name": "python",
   "nbconvert_exporter": "python",
   "pygments_lexer": "ipython3",
   "version": "3.8.20"
  }
 },
 "nbformat": 4,
 "nbformat_minor": 2
}
